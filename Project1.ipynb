{
 "cells": [
  {
   "cell_type": "markdown",
   "id": "082ef167-6d24-4189-a717-08b27704446b",
   "metadata": {},
   "source": []
  },
  {
   "cell_type": "code",
   "execution_count": null,
   "id": "8509adb1-ca65-4523-be17-b3a380e47258",
   "metadata": {},
   "outputs": [],
   "source": []
  },
  {
   "cell_type": "code",
   "execution_count": null,
   "id": "212598dd-5fb7-4553-8483-873a2d63a8bf",
   "metadata": {},
   "outputs": [],
   "source": []
  },
  {
   "cell_type": "code",
   "execution_count": null,
   "id": "25b52159-d88e-4772-b59f-fcf5ef119619",
   "metadata": {},
   "outputs": [],
   "source": [
    "A = [17,  -8,  0,  0, -6,  0,  0,  0,  0,  0,  0,  0,  0,  0,  -1;...\n",
    "   -8, 14,  0,  0,  0, -2,  0,  0,  0,  0,  0,  0,  0,  0,  10;...\n",
    "   0,  0,  15, -4,  0, -1,  0,  0,  0,  0,  0,  0,  0,  0, -36;...\n",
    "   0,  0, -4,  7,  0,  0, -2,  0,   0,  0,  0,  0,  0,  0,   3;...\n",
    "   -6,  0,  0,  0, 15, -6,  0,  0,  0,  0,  0,  0,  0,  0,  -4;...\n",
    "   0, -2, -1,  0, -6, 16, -3,  0, -4,  0,  0,  0,  0,  0,  13;...\n",
    "   0,  0,  0, -2,  0, -3,  6,  0,  0,  0, -1,  0,  0,  0,   6;...\n",
    "   0,  0,  0,  0,  0,  0,  0,  9, -1,  0,  0,  0,  0,  0,  11;...\n",
    "   0,  0,  0,  0,  0, -4,  0, -1, 11, -6,  0,  0,  0,  0,  34;...\n",
    "   0,  0,  0,  0,  0,  0,  0,  0, -6,  8, -2,  0,  0,  0, -26;...\n",
    "   0,  0,  0,  0,  0,  0, -1,  0,  0, -2,  4,  0,  0,  0, -21;...\n",
    "   0,  0,  0,  0,  0,  0,  0,  0,  0,  0,  0,  6, -3,  0, -12;...\n",
    "   0,  0,  0,  0,  0,  0,  0,  0,  0,  0,  0, -3,  4, -1,   2;...\n",
    "   0,  0,  0,  0,  0,  0,  0,  0,  0,  0,  0,  0, -1,  5,   0];"
   ]
  }
 ],
 "metadata": {
  "kernelspec": {
   "display_name": "Python 3 (ipykernel)",
   "language": "python",
   "name": "python3"
  },
  "language_info": {
   "codemirror_mode": {
    "name": "ipython",
    "version": 3
   },
   "file_extension": ".py",
   "mimetype": "text/x-python",
   "name": "python",
   "nbconvert_exporter": "python",
   "pygments_lexer": "ipython3",
   "version": "3.10.12"
  }
 },
 "nbformat": 4,
 "nbformat_minor": 5
}
