{
 "cells": [
  {
   "cell_type": "markdown",
   "id": "ea706e70-0bbf-482d-abcc-734b400f0bc3",
   "metadata": {},
   "source": [
    "\n",
    "\n",
    "<h1>Loop Currents</h1>\n",
    "<p><span style=\"font-size:medium;\">By Cici Sun, Yiming Zhu, Oscar Jaroker</span></p>\n",
    "\n"
   ]
  },
  {
   "attachments": {
    "82e40e21-b077-4f8d-ad3f-16537b250533.png": {
     "image/png": "[encoded data removed]"
    }
   },
   "cell_type": "markdown",
   "id": "d54eb812-7990-4e08-b66b-b6d82bc41295",
   "metadata": {},
   "source": [
    "![Screenshot_20240216_154047.png](attachment:82e40e21-b077-4f8d-ad3f-16537b250533.png)"
   ]
  },
  {
   "cell_type": "markdown",
   "id": "35db23c7-945d-46ba-930d-1a5ac7d17487",
   "metadata": {},
   "source": [
    "$\n",
    "19I_1-10I_2=29 \\tag{1}\n",
    "$"
   ]
  },
  {
   "cell_type": "markdown",
   "id": "2b2d5787-9eee-4345-bf39-eba1ed512491",
   "metadata": {},
   "source": [
    "$\n",
    "-10I+15I_2=-9 \\tag{2}\n",
    "$"
   ]
  },
  {
   "cell_type": "markdown",
   "id": "7b5de02d-6394-46e8-8804-0b47379169b0",
   "metadata": {},
   "source": [
    "### 1. Confirm equations (1) and (2) above.\n",
    "Kirchoff's Voltage Law states that the sum of the voltage drops in one direction around a loop current equals the sum of the voltage sources in the same direction around the loop.\\\n",
    "In the first loop, the sum of resistance values that the current $I_1$ goes through is $19\\Omega$. The resistance the current $I_2$ goes through is $10\\Omega$ and is in the opposite direction, so its sign is negative.\\\n",
    "In the second loop, the sum of resistance values that the current $I_2$ goes through is $15\\Omega$ and current $I_1$ goes through the $10\\Omega$ resistor in the opposite direction."
   ]
  },
  {
   "cell_type": "markdown",
   "id": "a6bb94a6-aa7a-49ee-a583-077e9a430c9c",
   "metadata": {},
   "source": [
    "### 2. Solve the system of equations to find the loop currents $I_1$ and $I_2$\n",
    "First, we define the coefficient matrix $A$ and the vector $\\overrightarrow{b}$, then use MATLAB's '\\\\' operator to solve for $I_1$ and $I_2$.\n"
   ]
  },
  {
   "cell_type": "code",
   "execution_count": 5,
   "id": "a63df567-ceea-434d-9bd1-5bdd428dd0a8",
   "metadata": {
    "scrolled": true
   },
   "outputs": [
    {
     "data": {
      "text/html": [
       "<html><body><pre>I = 2x1 double\n",
       "    3.0000\n",
       "    1.4000\n",
       "</pre></body></html>"
      ],
      "text/plain": [
       "I = 2x1 double\n",
       "    3.0000\n",
       "    1.4000\n"
      ]
     },
     "execution_count": 5,
     "metadata": {},
     "output_type": "execute_result"
    }
   ],
   "source": [
    "A = [19, -20 ; -10, 15];\n",
    "b = [29 ; -9];\n",
    "I = A\\b"
   ]
  },
  {
   "cell_type": "markdown",
   "id": "2381dc2b-0e57-40c7-98b9-39b9943948f7",
   "metadata": {},
   "source": [
    "We find that $I_1=3$ and $I_1=1.4$"
   ]
  },
  {
   "cell_type": "code",
   "execution_count": null,
   "id": "dbcb1bb4-1f9e-4316-9bcd-707e2ae04567",
   "metadata": {},
   "outputs": [],
   "source": []
  }
 ],
 "metadata": {
  "kernelspec": {
   "display_name": "MATLAB Kernel",
   "language": "matlab",
   "name": "jupyter_matlab_kernel"
  },
  "language_info": {
   "file_extension": ".m",
   "mimetype": "text/x-matlab",
   "name": "matlab"
  }
 },
 "nbformat": 4,
 "nbformat_minor": 5
}
